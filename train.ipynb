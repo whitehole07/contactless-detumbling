{
 "cells": [
  {
   "cell_type": "code",
   "id": "initial_id",
   "metadata": {
    "collapsed": true,
    "ExecuteTime": {
     "end_time": "2024-04-29T06:07:01.616401Z",
     "start_time": "2024-04-29T06:06:59.722089Z"
    }
   },
   "source": [
    "# Entities\n",
    "import numpy as np\n",
    "import torch\n",
    "\n",
    "from processing.robotics.arm_propagator import ArmPropagator, ElectromagnetEndEffector\n",
    "from processing.system_animation import animate_system\n",
    "from processing.utilities.entities import Cylinder\n",
    "\n",
    "# Attitude\n",
    "from processing.attitude.attitude_propagator import AttitudePropagator\n",
    "from processing.attitude.torques.base import TorqueObject\n",
    "from processing.attitude.torques.eddy_current import EddyCurrentTorque\n",
    "\n",
    "# Environment\n",
    "from propagator.bin.environment import Environment"
   ],
   "outputs": [],
   "execution_count": 1
  },
  {
   "metadata": {
    "ExecuteTime": {
     "end_time": "2024-04-29T06:07:01.652367Z",
     "start_time": "2024-04-29T06:07:01.635225Z"
    }
   },
   "cell_type": "code",
   "source": [
    "def save_step(t: float, prop: list, at: AttitudePropagator, ar: ArmPropagator):\n",
    "    # Convert to numpy\n",
    "    prop = np.array(prop)\n",
    "\n",
    "    # Save arm\n",
    "    if ar._timestamps is None:\n",
    "        ar._timestamps = np.array([t])\n",
    "        ar._prop_sol = prop[0:12].reshape(-1, 1)\n",
    "    else:\n",
    "        ar._timestamps = np.hstack((ar._timestamps, np.array([t])))\n",
    "        ar._prop_sol = np.hstack((ar._prop_sol, prop[0:12].reshape(-1, 1)))\n",
    "\n",
    "    # Save end effector results\n",
    "    ar.end_effector._timestamps = ar._timestamps\n",
    "    if ar.end_effector.locations is None:\n",
    "        ar.end_effector.locations = prop[19:22].reshape(-1, 1)\n",
    "        ar.end_effector.poses = prop[22:25].reshape(-1, 1)\n",
    "    else:\n",
    "        ar.end_effector.locations = np.hstack((ar.end_effector.locations, prop[19:22].reshape(-1, 1)))\n",
    "        ar.end_effector.poses = np.hstack((ar.end_effector.poses, prop[22:25].reshape(-1, 1)))\n",
    "\n",
    "    # Save attitude\n",
    "    at._timestamps = ar._timestamps\n",
    "    if at._prop_sol is None:\n",
    "        at._prop_sol = prop[12:19].reshape(-1, 1)\n",
    "    else:\n",
    "        at._prop_sol = np.hstack((at._prop_sol, prop[12:19].reshape(-1, 1)))\n",
    "\n",
    "    return"
   ],
   "id": "178c8fb19ff71d49",
   "outputs": [],
   "execution_count": 2
  },
  {
   "metadata": {},
   "cell_type": "markdown",
   "source": "# System setup",
   "id": "fd60d64ab7b2489a"
  },
  {
   "metadata": {
    "ExecuteTime": {
     "end_time": "2024-04-29T06:07:01.663444Z",
     "start_time": "2024-04-29T06:07:01.654221Z"
    }
   },
   "cell_type": "code",
   "source": [
    "# Generate debris\n",
    "debris = Cylinder(\n",
    "    mass=950.0,\n",
    "    radius=2.5,\n",
    "    height=5.0,\n",
    "    thickness=0.1,\n",
    "    sigma=35000000.0\n",
    ")\n",
    "\n",
    "# Generate robotic arms (UR10 standard)\n",
    "# Joints\n",
    "# TODO: Consider adjusting the scaling and the inertia matrices by considering a cylindrical simplified model\n",
    "scale = 10\n",
    "joints = np.array([\n",
    "    [0, 0, scale*0.1807, np.pi/2],\n",
    "    [0, scale*-0.6127, 0, 0],\n",
    "    [0, scale*-0.57155, 0, 0],\n",
    "    [0, 0, scale*0.17415, np.pi/2],\n",
    "    [0, 0, scale*0.11985, -np.pi/2],\n",
    "    [0, 0, scale*0.11655, 0]\n",
    "])\n",
    "\n",
    "# End effector\n",
    "electromagnet: ElectromagnetEndEffector = ElectromagnetEndEffector(\n",
    "    n_turns=500.0,\n",
    "    radius=1.0,\n",
    "    current=50.0\n",
    ")\n",
    "electromagnets = [electromagnet]\n",
    "\n",
    "# External moments\n",
    "# Eddy current\n",
    "eddy: TorqueObject = EddyCurrentTorque(\n",
    "    entity=debris,\n",
    "    chaser_w0=[0.0, 0.0, 0.0],\n",
    "    electromagnets=electromagnets\n",
    ")\n",
    "\n",
    "# Save attitude results\n",
    "attitude = AttitudePropagator(entity=debris, M_ext=eddy)\n",
    "\n",
    "# Save robotic arm results\n",
    "base_offset = np.array([10, 0, 5])\n",
    "arm = ArmPropagator(joints=joints, end_effector=electromagnet, base_offset=base_offset)"
   ],
   "id": "3850ece381a2c34d",
   "outputs": [],
   "execution_count": 3
  },
  {
   "metadata": {},
   "cell_type": "markdown",
   "source": "# Environment Setup",
   "id": "d6f6ee2e69c16107"
  },
  {
   "metadata": {
    "ExecuteTime": {
     "end_time": "2024-04-29T06:07:02.385258Z",
     "start_time": "2024-04-29T06:07:02.379060Z"
    }
   },
   "cell_type": "code",
   "source": [
    "# Set initial conditions\n",
    "y0_arm = [0.0, -0.7, -0.3, 0.0, 0.0, 0.0, 0.0, 0.0, 0.0, 0.0, 0.0, 0.0]\n",
    "y0_debris = [0.1, 0.2, 0.0, 0.0, 0.0, 0.0, 1.0]\n",
    "\n",
    "# Initialize environment\n",
    "env = Environment(\n",
    "    y0_arm + y0_debris,\n",
    "    float(debris.inertia_matrix[0, 0]), float(debris.inertia_matrix[1, 1]), float(debris.inertia_matrix[2, 2]),\n",
    "    debris.radius, debris.height, debris.thickness, debris.sigma,\n",
    "    electromagnet.n_turns, electromagnet.current, electromagnet.radius,\n",
    "    float(arm.base_offset[0]), float(arm.base_offset[1]), float(arm.base_offset[2]),\n",
    "    scale, list(map(float, arm.joints[:, 1])), list(map(float, arm.joints[:, 2])), list(map(float, arm.joints[:, 3]))\n",
    "    )"
   ],
   "id": "c1025c7fd7e4c9ed",
   "outputs": [],
   "execution_count": 4
  },
  {
   "metadata": {
    "ExecuteTime": {
     "end_time": "2024-04-29T06:07:03.132149Z",
     "start_time": "2024-04-29T06:07:03.122302Z"
    }
   },
   "cell_type": "code",
   "source": [
    "# Save initial conditions\n",
    "t, step_ret = env.current_state()\n",
    "save_step(t, step_ret, attitude, arm)"
   ],
   "id": "e796c794cf752643",
   "outputs": [],
   "execution_count": 5
  },
  {
   "metadata": {
    "ExecuteTime": {
     "end_time": "2024-04-29T06:07:04.799231Z",
     "start_time": "2024-04-29T06:07:04.788862Z"
    }
   },
   "cell_type": "code",
   "source": [
    "while t < 10:\n",
    "    t, step_ret = env.step(1, [0,0,0,0,0,0])\n",
    "    save_step(t, step_ret, attitude, arm)\n",
    "    print(step_ret)"
   ],
   "id": "3f508c9699ec8a9",
   "outputs": [
    {
     "name": "stdout",
     "output_type": "stream",
     "text": [
      "[0.0, -0.7, -0.3, 0.0, 0.0, 0.0, 0.0, 0.0, 0.0, 0.0, 0.0, 0.0, 0.09999994799273805, 0.19999998377614572, 3.466750150043205e-08, 0.04989482449900917, 0.09978967031843859, 9.029039697608036e-09, 0.9937453540978751, 1.2172111140263233, -2.907, 14.9159968697919, 0.0, -1.0, 6.123233995736767e-17]\n",
      "[0.0, -0.7, -0.3, 0.0, 0.0, 0.0, 0.0, 0.0, 0.0, 0.0, 0.0, 0.0, 0.09999989697509003, 0.19999996705750483, 6.933499043151712e-08, 0.0991677275235957, 0.1983355359591001, 3.7236185238574446e-08, 0.9750996622576092, 1.2172111140263233, -2.907, 14.9159968697919, 0.0, -1.0, 6.123233995736767e-17]\n",
      "[0.0, -0.7, -0.3, 0.0, 0.0, 0.0, 0.0, 0.0, 0.0, 0.0, 0.0, 0.0, 0.09999984694797005, 0.19999994984362057, 1.040024667065273e-07, 0.14720405520142327, 0.29440828216471354, 8.595287887534006e-08, 0.9442886612296497, 1.2172111140263233, -2.907, 14.9159968697919, 0.0, -1.0, 6.123233995736767e-17]\n",
      "[0.0, -0.7, -0.3, 0.0, 0.0, 0.0, 0.0, 0.0, 0.0, 0.0, 0.0, 0.0, 0.09999979791137702, 0.1999999321344936, 1.3866993025034926e-07, 0.1934058878668019, 0.3868120619661194, 1.5585117072145324e-07, 0.9016972146841669, 1.2172111140263233, -2.907, 14.9159968697919, 0.0, -1.0, 6.123233995736767e-17]\n",
      "[0.0, -0.7, -0.3, 0.0, 0.0, 0.0, 0.0, 0.0, 0.0, 0.0, 0.0, 0.0, 0.09999974986530977, 0.19999991393012467, 1.733373809878697e-07, 0.23719205469439714, 0.4743845256233053, 2.4703262866714037e-07, 0.8478379246332538, 1.2172111140263233, -2.907, 14.9159968697919, 0.0, -1.0, 6.123233995736767e-17]\n",
      "[0.0, -0.7, -0.3, 0.0, 0.0, 0.0, 0.0, 0.0, 0.0, 0.0, 0.0, 0.0, 0.09999970280976715, 0.1999998952305145, 2.0800481884397552e-07, 0.2780220209264852, 0.5560445949240709, 3.5875460183337986e-07, 0.7834039844782889, 1.2172111140263233, -2.907, 14.9159968697919, 0.0, -1.0, 6.123233995736767e-17]\n",
      "[0.0, -0.7, -0.3, 0.0, 0.0, 0.0, 0.0, 0.0, 0.0, 0.0, 0.0, 0.0, 0.09999965674474805, 0.19999987603566377, 2.426722437435537e-07, 0.31537882527333216, 0.6307583385494578, 4.898681193529284e-07, 0.7091709899554107, 1.2172111140263233, -2.907, 14.9159968697919, 0.0, -1.0, 6.123233995736767e-17]\n",
      "[0.0, -0.7, -0.3, 0.0, 0.0, 0.0, 0.0, 0.0, 0.0, 0.0, 0.0, 0.0, 0.09999961167025129, 0.19999985634557318, 2.773396556114914e-07, 0.34880175758788473, 0.697604327615536, 6.383467671046908e-07, 0.626087384500526, 1.2172111140263233, -2.907, 14.9159968697919, 0.0, -1.0, 6.123233995736767e-17]\n",
      "[0.0, -0.7, -0.3, 0.0, 0.0, 0.0, 0.0, 0.0, 0.0, 0.0, 0.0, 0.0, 0.09999956758627569, 0.1999998361602434, 3.120070543726759e-07, 0.3778732052484361, 0.7557473287255198, 8.017010482633339e-07, 0.5351826789485974, 1.2172111140263233, -2.907, 14.9159968697919, 0.0, -1.0, 6.123233995736767e-17]\n",
      "[0.0, -0.7, -0.3, 0.0, 0.0, 0.0, 0.0, 0.0, 0.0, 0.0, 0.0, 0.0, 0.09999952449282008, 0.19999981547967502, 3.466744399519945e-07, 0.4022237382531838, 0.8044484741486612, 9.768963729091741e-07, 0.4375851612273335, 1.2172111140263233, -2.907, 14.9159968697919, 0.0, -1.0, 6.123233995736767e-17]\n"
     ]
    }
   ],
   "execution_count": 6
  },
  {
   "metadata": {},
   "cell_type": "code",
   "source": "# attitude.plot([\"angular_velocity\", \"quaternions\", \"energy\", \"euler_angles\"])",
   "id": "3dd5bb7ac259a1fe",
   "outputs": [],
   "execution_count": null
  },
  {
   "metadata": {},
   "cell_type": "code",
   "source": "arm.plot()",
   "id": "3212ddcfb13e8010",
   "outputs": [],
   "execution_count": null
  },
  {
   "metadata": {},
   "cell_type": "code",
   "source": [
    "animate_system(\n",
    "    t=attitude.t,\n",
    "    q=attitude.q,\n",
    "    eu=attitude.euler_angles,\n",
    "    h=debris.height,\n",
    "    r=debris.radius,\n",
    "    dpi=300,\n",
    "    arms=[arm],\n",
    "    dh_par=joints\n",
    ")"
   ],
   "id": "df30b0cf72174617",
   "outputs": [],
   "execution_count": null
  }
 ],
 "metadata": {
  "kernelspec": {
   "display_name": "Python 3",
   "language": "python",
   "name": "python3"
  },
  "language_info": {
   "codemirror_mode": {
    "name": "ipython",
    "version": 2
   },
   "file_extension": ".py",
   "mimetype": "text/x-python",
   "name": "python",
   "nbconvert_exporter": "python",
   "pygments_lexer": "ipython2",
   "version": "2.7.6"
  }
 },
 "nbformat": 4,
 "nbformat_minor": 5
}
