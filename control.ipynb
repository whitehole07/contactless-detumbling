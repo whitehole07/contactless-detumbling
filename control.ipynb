{
 "cells": [
  {
   "cell_type": "code",
   "id": "initial_id",
   "metadata": {
    "collapsed": true,
    "ExecuteTime": {
     "end_time": "2024-06-02T02:57:42.504518Z",
     "start_time": "2024-06-02T02:57:41.979723Z"
    }
   },
   "source": [
    "# Entities\n",
    "import numpy as np\n",
    "\n",
    "from processing.robotics.arm_propagator import ArmPropagator, ElectromagnetEndEffector, RevoluteJoint\n",
    "from processing.system_animation import animate_system\n",
    "from processing.utilities.entities import Cylinder\n",
    "\n",
    "# Attitude\n",
    "from processing.attitude.attitude_propagator import AttitudePropagator\n",
    "from processing.attitude.torques.base import TorqueObject\n",
    "from processing.attitude.torques.eddy_current import EddyCurrentTorque\n",
    "\n",
    "# Environment\n",
    "from propagator.bin.environment import Environment"
   ],
   "outputs": [],
   "execution_count": 1
  },
  {
   "metadata": {
    "ExecuteTime": {
     "end_time": "2024-06-02T02:57:42.519069Z",
     "start_time": "2024-06-02T02:57:42.507014Z"
    }
   },
   "cell_type": "code",
   "source": [
    "# Generate debris\n",
    "debris = Cylinder(\n",
    "    mass=950.0,\n",
    "    radius=2.5,\n",
    "    height=5.0,\n",
    "    thickness=0.1,\n",
    "    sigma=35000000.0\n",
    ")\n",
    "\n",
    "# Generate robotic arms (UR10 standard)\n",
    "# Joints\n",
    "joints = [\n",
    "    RevoluteJoint(0, 0.5, np.pi/2),\n",
    "    RevoluteJoint(2.5, 0, 0),\n",
    "    RevoluteJoint(2.5, 0, 0),\n",
    "    RevoluteJoint(0, 0.5, np.pi/2),\n",
    "    RevoluteJoint(0, 0.25, -np.pi/2),\n",
    "    RevoluteJoint(0, 0.25, 0)\n",
    "]\n",
    "\n",
    "# CoM\n",
    "com = [\n",
    "    [0, -joints[0].d/2, 0],\n",
    "    [joints[1].a/2, 0, 0],\n",
    "    [joints[2].a/2, 0, 0],\n",
    "    [0, -joints[3].d/2, 0],\n",
    "    [0, joints[4].d/2, 0],\n",
    "    [0, 0, -joints[5].d/2]\n",
    "]\n",
    "\n",
    "# End effector\n",
    "electromagnet: ElectromagnetEndEffector = ElectromagnetEndEffector(\n",
    "    n_turns=500.0,\n",
    "    radius=1.0,\n",
    "    current=50.0\n",
    ")\n",
    "\n",
    "# External moments\n",
    "# Eddy current\n",
    "eddy: TorqueObject = EddyCurrentTorque(\n",
    "    entity=debris,\n",
    "    chaser_w0=[0.0, 0.0, 0.0],\n",
    "    electromagnets=[electromagnet]\n",
    ")\n",
    "\n",
    "# Save attitude results\n",
    "attitude = AttitudePropagator(entity=debris, M_ext=eddy)\n",
    "\n",
    "# Save robotic arm results\n",
    "base_offset = np.array([10, 0, 5])\n",
    "max_torques = np.array([.025, .025, .025, .025, .025, .025])\n",
    "arm = ArmPropagator(joints=joints, com=com, end_effector=electromagnet, base_offset=base_offset, max_torques=max_torques)"
   ],
   "id": "38304bbcaa8f114e",
   "outputs": [],
   "execution_count": 2
  },
  {
   "metadata": {
    "ExecuteTime": {
     "end_time": "2024-06-02T02:57:42.742842Z",
     "start_time": "2024-06-02T02:57:42.727924Z"
    }
   },
   "cell_type": "code",
   "source": [
    "# Set propagation settings\n",
    "t_step = .1  # Propagation time step [s]\n",
    "\n",
    "# Set initial conditions\n",
    "y0_arm = [\n",
    "    0, 0.7, 0.3, 0.0, 0.0, 0.0,   # Initial joint angles\n",
    "    0.02, 0.0, 0.0, 0.0, 0.0, 0.0   # Initial joint velocities\n",
    "]\n",
    "\n",
    "y0_debris = [\n",
    "    0.1, 0.2, 0.0,                    # Initial debris angular velocity\n",
    "    0.0, 0.0, 0.0, 1.0                # Initial debris quaternions\n",
    "]\n",
    "\n",
    "# Initialize environment\n",
    "env = Environment(\n",
    "    y0_arm + y0_debris,                   # Initial conditions\n",
    "    debris.Ixx,                           # Debris Ixx\n",
    "    debris.Iyy,                           # Debris Iyy\n",
    "    debris.Izz,                           # Debris Izz\n",
    "    debris.radius,                        # Debris cylinder radius\n",
    "    debris.height,                        # Debris cylinder height \n",
    "    debris.thickness,                     # Debris cylinder thickness\n",
    "    debris.sigma,                         # Debris conductivity\n",
    "    electromagnet.n_turns,                # Coil number of turns\n",
    "    electromagnet.current,                # Coil current\n",
    "    electromagnet.radius,                 # Coil radius\n",
    "    arm.base_offset_x,                    # Arm base x-offset\n",
    "    arm.base_offset_y,                    # Arm base y-offset\n",
    "    arm.base_offset_z,                    # Arm base z-offset\n",
    "    arm.dh_a,                             # Arm joint a parameters\n",
    "    arm.dh_d,                             # Arm joint d parameters\n",
    "    arm.dh_alpha,                         # Arm joint alpha parameters\n",
    "    arm.max_torques,                      # Arm joint max torques\n",
    "    arm.com                               # Arm link CoMs\n",
    "    )"
   ],
   "id": "2aa68dd652ad9f23",
   "outputs": [],
   "execution_count": 3
  },
  {
   "metadata": {},
   "cell_type": "markdown",
   "source": "## Save initial conditions",
   "id": "68819d4da3799e3"
  },
  {
   "metadata": {
    "ExecuteTime": {
     "end_time": "2024-06-02T02:57:43.521356Z",
     "start_time": "2024-06-02T02:57:43.516169Z"
    }
   },
   "cell_type": "code",
   "source": [
    "def save(tf, prop):\n",
    "    # to numpy\n",
    "    prop = np.array(prop)\n",
    "    \n",
    "    # save\n",
    "    arm.save_new(tf, prop=prop)\n",
    "    attitude.save_new(tf, prop=prop)\n",
    "    \n",
    "# Get initial state\n",
    "t, s = env.current_state()\n",
    "save(t, s)"
   ],
   "id": "65b76549b72bf1c3",
   "outputs": [],
   "execution_count": 4
  },
  {
   "metadata": {
    "ExecuteTime": {
     "end_time": "2024-06-02T02:57:44.040702Z",
     "start_time": "2024-06-02T02:57:44.030207Z"
    }
   },
   "cell_type": "code",
   "source": [
    "t, s = env.step(t_step=t_step)\n",
    "save(t, s)"
   ],
   "id": "113e2ee25fe6ed9e",
   "outputs": [],
   "execution_count": 5
  },
  {
   "metadata": {},
   "cell_type": "code",
   "source": "s",
   "id": "def34d09fbe8a52d",
   "outputs": [],
   "execution_count": null
  },
  {
   "metadata": {},
   "cell_type": "markdown",
   "source": "### Inverse kinematics",
   "id": "d82e03d66387f6f1"
  },
  {
   "metadata": {},
   "cell_type": "code",
   "source": [
    "# Solve inverse kinematics\n",
    "TD = np.array([\n",
    "         [1.0000,      0,         0,   -4.0000],\n",
    "         [0     ,      0,   -1.0000,    1.7500],\n",
    "         [0     , 1.0000,         0,    0.2500],\n",
    "         [0     ,      0,         0,    1.0000]\n",
    "    ])\n",
    "yD_arm = arm.inverse_kinematics(TD, np.array(y0_arm[:6]), 1e-13, 100)\n",
    "T_c = arm.get_transformation(yD_arm, 6)"
   ],
   "id": "aa6ae1215ce968a9",
   "outputs": [],
   "execution_count": null
  },
  {
   "metadata": {},
   "cell_type": "code",
   "source": [
    "print(\"Final angles [deg]: \", np.rad2deg(yD_arm))\n",
    "print(\"Final angles [rad]: \", yD_arm)\n",
    "print(\"Final EE position: \", T_c[:3, -1] + arm.base_offset)"
   ],
   "id": "777a9ba318d8660d",
   "outputs": [],
   "execution_count": null
  },
  {
   "metadata": {},
   "cell_type": "markdown",
   "source": "## Loop",
   "id": "fb9591bc6de6bc58"
  },
  {
   "metadata": {},
   "cell_type": "code",
   "source": [
    "# Set control parameters\n",
    "env.set_control_torque(yD=list(yD_arm))\n",
    "\n",
    "# Perform steps\n",
    "while t < 100:\n",
    "    # Perform step\n",
    "    t, s = env.step(t_step=t_step)\n",
    "    save(t, s)\n",
    "\n",
    "TD = np.array([\n",
    "         [1.0000,      0,         0,   -3.0000],\n",
    "         [0     ,      0,   -1.0000,    1.7500],\n",
    "         [0     , 1.0000,         0,    0.2500],\n",
    "         [0     ,      0,         0,    1.0000]\n",
    "    ])\n",
    "yD_arm = arm.inverse_kinematics(TD, yD_arm, 1e-13, 100)\n",
    "\n",
    "# Set control parameters\n",
    "env.set_control_torque(yD=list(yD_arm))\n",
    "\n",
    " # Perform steps\n",
    "while t < 150:\n",
    "    # Perform step\n",
    "    t, s = env.step(t_step=t_step)\n",
    "    save(t, s)   \n",
    "    \n",
    "TD = np.array([\n",
    "         [1.0000,      0,         0,   -4.0000],\n",
    "         [0     ,      0,   -1.0000,    1.7500],\n",
    "         [0     , 1.0000,         0,    1.2500],\n",
    "         [0     ,      0,         0,    1.0000]\n",
    "    ])\n",
    "yD_arm = arm.inverse_kinematics(TD, yD_arm, 1e-13, 100)\n",
    "\n",
    "# Set control parameters\n",
    "env.set_control_torque(yD=list(yD_arm))\n",
    "\n",
    " # Perform steps\n",
    "while t < 200:\n",
    "    # Perform step\n",
    "    t, s = env.step(t_step=t_step)\n",
    "    save(t, s)   "
   ],
   "id": "683f69d2ec5dd3b3",
   "outputs": [],
   "execution_count": null
  },
  {
   "metadata": {},
   "cell_type": "code",
   "source": "attitude.plot([\"angular_velocity\", \"quaternions\", \"energy\", \"euler_angles\"])",
   "id": "c96bf4ba86627f42",
   "outputs": [],
   "execution_count": null
  },
  {
   "metadata": {},
   "cell_type": "code",
   "source": "arm.plot()",
   "id": "aadfb0d9c7efc820",
   "outputs": [],
   "execution_count": null
  },
  {
   "metadata": {},
   "cell_type": "code",
   "source": [
    "animate_system(\n",
    "    t=attitude.t,\n",
    "    q=attitude.q,\n",
    "    eu=attitude.euler_angles,\n",
    "    h=debris.height,\n",
    "    r=debris.radius,\n",
    "    dpi=300,\n",
    "    arms=[arm],\n",
    "    dh_par=joints\n",
    ")"
   ],
   "id": "fc535a1b82d5f51b",
   "outputs": [],
   "execution_count": null
  }
 ],
 "metadata": {
  "kernelspec": {
   "display_name": "Python 3",
   "language": "python",
   "name": "python3"
  },
  "language_info": {
   "codemirror_mode": {
    "name": "ipython",
    "version": 2
   },
   "file_extension": ".py",
   "mimetype": "text/x-python",
   "name": "python",
   "nbconvert_exporter": "python",
   "pygments_lexer": "ipython2",
   "version": "2.7.6"
  }
 },
 "nbformat": 4,
 "nbformat_minor": 5
}
